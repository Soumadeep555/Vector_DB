{
 "cells": [
  {
   "cell_type": "markdown",
   "metadata": {},
   "source": [
    "## It is a very important pre processing technique"
   ]
  },
  {
   "cell_type": "markdown",
   "metadata": {},
   "source": [
    "## Chunking from scratch"
   ]
  },
  {
   "cell_type": "code",
   "execution_count": 1,
   "metadata": {},
   "outputs": [],
   "source": [
    "def fixed_length_chunking(text, chunk_size):\n",
    "    words = text.split() \n",
    "    chunks = [' '.join(words[i:i + chunk_size]) for i in range(0, len(words), chunk_size)]\n",
    "    return chunks"
   ]
  },
  {
   "cell_type": "code",
   "execution_count": 2,
   "metadata": {},
   "outputs": [],
   "source": [
    "# Example Usage\n",
    "TEXT = \"Machine learning is a field of AI that enables computers to learn from data. Deep learning is a subset of machine learning focused on neural networks. These techniques have revolutionized industries like healthcare, finance, and robotics.\""
   ]
  },
  {
   "cell_type": "markdown",
   "metadata": {},
   "source": [
    "#### Token based Chunking:"
   ]
  },
  {
   "cell_type": "code",
   "execution_count": 3,
   "metadata": {},
   "outputs": [],
   "source": [
    "#Token: Collection of characters: \n",
    "\n",
    "#chunk_size=10"
   ]
  },
  {
   "cell_type": "markdown",
   "metadata": {},
   "source": [
    "character=a,b,c,d,e,f,g,h,i,j,k\n",
    "\n",
    "token(word)=\"sunny\"\n",
    "\n",
    "sent\n",
    "\n",
    "para"
   ]
  },
  {
   "cell_type": "code",
   "execution_count": null,
   "metadata": {},
   "outputs": [],
   "source": [
    "CHUNK_SIZE=20 #Token Size"
   ]
  },
  {
   "cell_type": "code",
   "execution_count": 5,
   "metadata": {},
   "outputs": [],
   "source": [
    "words = TEXT.split()"
   ]
  },
  {
   "cell_type": "code",
   "execution_count": 6,
   "metadata": {},
   "outputs": [
    {
     "data": {
      "text/plain": [
       "['Machine',\n",
       " 'learning',\n",
       " 'is',\n",
       " 'a',\n",
       " 'field',\n",
       " 'of',\n",
       " 'AI',\n",
       " 'that',\n",
       " 'enables',\n",
       " 'computers',\n",
       " 'to',\n",
       " 'learn',\n",
       " 'from',\n",
       " 'data.',\n",
       " 'Deep',\n",
       " 'learning',\n",
       " 'is',\n",
       " 'a',\n",
       " 'subset',\n",
       " 'of',\n",
       " 'machine',\n",
       " 'learning',\n",
       " 'focused',\n",
       " 'on',\n",
       " 'neural',\n",
       " 'networks.',\n",
       " 'These',\n",
       " 'techniques',\n",
       " 'have',\n",
       " 'revolutionized',\n",
       " 'industries',\n",
       " 'like',\n",
       " 'healthcare,',\n",
       " 'finance,',\n",
       " 'and',\n",
       " 'robotics.']"
      ]
     },
     "execution_count": 6,
     "metadata": {},
     "output_type": "execute_result"
    }
   ],
   "source": [
    "words"
   ]
  },
  {
   "cell_type": "code",
   "execution_count": 6,
   "metadata": {},
   "outputs": [],
   "source": [
    "#Logic for Chunking:\n",
    "\n",
    "chunks = [' '.join(words[i:i + CHUNK_SIZE]) for i in range(0, len(words), CHUNK_SIZE)]"
   ]
  },
  {
   "cell_type": "code",
   "execution_count": 7,
   "metadata": {},
   "outputs": [
    {
     "data": {
      "text/plain": [
       "36"
      ]
     },
     "execution_count": 7,
     "metadata": {},
     "output_type": "execute_result"
    }
   ],
   "source": [
    "len(words)"
   ]
  },
  {
   "cell_type": "markdown",
   "metadata": {},
   "source": [
    "0->36\n",
    "\n",
    "0,10,20,30"
   ]
  },
  {
   "cell_type": "code",
   "execution_count": 8,
   "metadata": {},
   "outputs": [
    {
     "name": "stdout",
     "output_type": "stream",
     "text": [
      "0\n",
      "20\n"
     ]
    }
   ],
   "source": [
    "for i in range(0, len(words), CHUNK_SIZE):\n",
    "    print(i)"
   ]
  },
  {
   "cell_type": "code",
   "execution_count": 9,
   "metadata": {},
   "outputs": [
    {
     "data": {
      "text/plain": [
       "['Machine',\n",
       " 'learning',\n",
       " 'is',\n",
       " 'a',\n",
       " 'field',\n",
       " 'of',\n",
       " 'AI',\n",
       " 'that',\n",
       " 'enables',\n",
       " 'computers',\n",
       " 'to',\n",
       " 'learn',\n",
       " 'from',\n",
       " 'data.',\n",
       " 'Deep',\n",
       " 'learning',\n",
       " 'is',\n",
       " 'a',\n",
       " 'subset',\n",
       " 'of']"
      ]
     },
     "execution_count": 9,
     "metadata": {},
     "output_type": "execute_result"
    }
   ],
   "source": [
    "words[0:0 + CHUNK_SIZE]"
   ]
  },
  {
   "cell_type": "code",
   "execution_count": 10,
   "metadata": {},
   "outputs": [
    {
     "data": {
      "text/plain": [
       "'machine learning focused on neural networks. These techniques have revolutionized industries like healthcare, finance, and robotics.'"
      ]
     },
     "execution_count": 10,
     "metadata": {},
     "output_type": "execute_result"
    }
   ],
   "source": [
    "' '.join(words[i:i + CHUNK_SIZE])"
   ]
  },
  {
   "cell_type": "code",
   "execution_count": 11,
   "metadata": {},
   "outputs": [
    {
     "data": {
      "text/plain": [
       "['to',\n",
       " 'learn',\n",
       " 'from',\n",
       " 'data.',\n",
       " 'Deep',\n",
       " 'learning',\n",
       " 'is',\n",
       " 'a',\n",
       " 'subset',\n",
       " 'of',\n",
       " 'machine',\n",
       " 'learning',\n",
       " 'focused',\n",
       " 'on',\n",
       " 'neural',\n",
       " 'networks.',\n",
       " 'These',\n",
       " 'techniques',\n",
       " 'have',\n",
       " 'revolutionized']"
      ]
     },
     "execution_count": 11,
     "metadata": {},
     "output_type": "execute_result"
    }
   ],
   "source": [
    "words[10:10 + CHUNK_SIZE]"
   ]
  },
  {
   "cell_type": "code",
   "execution_count": 12,
   "metadata": {},
   "outputs": [
    {
     "name": "stdout",
     "output_type": "stream",
     "text": [
      "0\n",
      "20\n"
     ]
    }
   ],
   "source": [
    "for i in range(0, len(words), CHUNK_SIZE):\n",
    "    print(i)"
   ]
  },
  {
   "cell_type": "code",
   "execution_count": 13,
   "metadata": {},
   "outputs": [],
   "source": [
    "chunks = fixed_length_chunking(text=TEXT, chunk_size=CHUNK_SIZE)"
   ]
  },
  {
   "cell_type": "code",
   "execution_count": 14,
   "metadata": {},
   "outputs": [
    {
     "name": "stdout",
     "output_type": "stream",
     "text": [
      "Machine learning is a field of AI that enables computers to learn from data. Deep learning is a subset of machine learning focused on neural networks. These techniques have revolutionized industries like healthcare, finance, and robotics.\n"
     ]
    }
   ],
   "source": [
    "print(TEXT)"
   ]
  },
  {
   "cell_type": "code",
   "execution_count": 15,
   "metadata": {},
   "outputs": [
    {
     "name": "stdout",
     "output_type": "stream",
     "text": [
      "Chunk 1: Machine learning is a field of AI that enables computers to learn from data. Deep learning is a subset of\n",
      "\n",
      "Chunk 2: machine learning focused on neural networks. These techniques have revolutionized industries like healthcare, finance, and robotics.\n",
      "\n"
     ]
    }
   ],
   "source": [
    "for i, chunk in enumerate(chunks):\n",
    "    print(f\"Chunk {i+1}: {chunk}\\n\")"
   ]
  },
  {
   "cell_type": "markdown",
   "metadata": {},
   "source": [
    "### Chunking with Character text splitter:"
   ]
  },
  {
   "cell_type": "code",
   "execution_count": 16,
   "metadata": {},
   "outputs": [],
   "source": [
    "text = \"\"\"\n",
    "Lorem ipsum dolor sit amet, consectetur adipiscing elit. Sed do eiusmod tempor incididunt ut labore et dolore magna aliqua.\n",
    "\n",
    "Ut enim ad minim veniam, quis nostrud exercitation ullamco laboris nisi ut aliquip ex ea commodo consequat.\n",
    "\n",
    "Duis aute irure dolor in reprehenderit in voluptate velit esse cillum dolore eu fugiat nulla pariatur.\n",
    "\n",
    "Excepteur sint occaecat cupidatat non proident, sunt in culpa qui officia deserunt mollit anim id est laborum.\n",
    "\"\"\""
   ]
  },
  {
   "cell_type": "code",
   "execution_count": 17,
   "metadata": {},
   "outputs": [],
   "source": [
    "from langchain_text_splitters import CharacterTextSplitter"
   ]
  },
  {
   "cell_type": "code",
   "execution_count": 18,
   "metadata": {},
   "outputs": [],
   "source": [
    "text_splitter = CharacterTextSplitter(separator=\"\\n\", chunk_size=50, chunk_overlap=0)\n"
   ]
  },
  {
   "cell_type": "code",
   "execution_count": 22,
   "metadata": {},
   "outputs": [],
   "source": [
    "text_splitter = CharacterTextSplitter(separator=\"\\n\", chunk_size=50, chunk_overlap=10)"
   ]
  },
  {
   "cell_type": "code",
   "execution_count": 25,
   "metadata": {},
   "outputs": [],
   "source": [
    "text_splitter = CharacterTextSplitter(separator=\" \", chunk_size=50, chunk_overlap=10)"
   ]
  },
  {
   "cell_type": "code",
   "execution_count": 26,
   "metadata": {},
   "outputs": [],
   "source": [
    "chunks = text_splitter.split_text(text=text)"
   ]
  },
  {
   "cell_type": "code",
   "execution_count": 27,
   "metadata": {},
   "outputs": [
    {
     "name": "stdout",
     "output_type": "stream",
     "text": [
      "Chunk 1: Lorem ipsum dolor sit amet, consectetur\n",
      "\n",
      "Chunk 2: adipiscing elit. Sed do eiusmod tempor incididunt\n",
      "\n",
      "Chunk 3: incididunt ut labore et dolore magna aliqua.\n",
      "\n",
      "Ut\n",
      "\n",
      "Chunk 4: enim ad minim veniam, quis nostrud exercitation\n",
      "\n",
      "Chunk 5: ullamco laboris nisi ut aliquip ex ea commodo\n",
      "\n",
      "Chunk 6: ea commodo consequat.\n",
      "\n",
      "Duis aute irure dolor in\n",
      "\n",
      "Chunk 7: dolor in reprehenderit in voluptate velit esse\n",
      "\n",
      "Chunk 8: velit esse cillum dolore eu fugiat nulla\n",
      "\n",
      "Chunk 9: nulla pariatur.\n",
      "\n",
      "Excepteur sint occaecat cupidatat\n",
      "\n",
      "Chunk 10: cupidatat non proident, sunt in culpa qui officia\n",
      "\n",
      "Chunk 11: officia deserunt mollit anim id est laborum.\n",
      "\n"
     ]
    }
   ],
   "source": [
    "for i, chunk in enumerate(chunks):\n",
    "    print(f\"Chunk {i+1}: {chunk}\\n\")"
   ]
  },
  {
   "cell_type": "code",
   "execution_count": 28,
   "metadata": {},
   "outputs": [],
   "source": [
    "from langchain.document_loaders import TextLoader"
   ]
  },
  {
   "cell_type": "code",
   "execution_count": 30,
   "metadata": {},
   "outputs": [],
   "source": [
    "loader=TextLoader(\"D:\\\\Soumadeep_Macbook\\\\Cybersecurity and Artificial Intelligence Macbook\\\\Advance_NLP_Generative_AI\\\\MODULES\\\\CODE\\\\Vector_DB\\\\state_of_the_union.txt\")"
   ]
  },
  {
   "cell_type": "code",
   "execution_count": 29,
   "metadata": {},
   "outputs": [],
   "source": [
    "#loader=TextLoader(\"C:\\\\Complete_Content\\\\GENERATIVEAI\\\\NEW_E2E_COURSE\\\\genai_bootcamp\\\\data\\\\state_of_the_union.txt\")"
   ]
  },
  {
   "cell_type": "code",
   "execution_count": 31,
   "metadata": {},
   "outputs": [],
   "source": [
    "docs=loader.load()"
   ]
  },
  {
   "cell_type": "code",
   "execution_count": 32,
   "metadata": {},
   "outputs": [
    {
     "data": {
      "text/plain": [
       "'Industrial revival hope for Japan\\n\\nJapanese industry is growing faster than expected, boosting hopes that the country\\'s retreat back into recession is over.\\n\\nIndustrial output rose 2.1% - adjusted for the time of year - in January from a month earlier. At the same time, retail sales picked up faster than at any time since 1997. The news sent Tokyo shares to an eight-month high, as investors hoped for a recovery from the three quarters of contraction seen from April 2004 on. The Nikkei 225 index ended the day up 0.7% at 11,740.60 points, with the yen strengthening 0.7% against the dollar to 104.53 yen. Weaker exports, normally the engine for Japan\\'s economy in the face of weak domestic demand, had helped trigger a 0.1% contraction in the final three months of last year after two previous quarters of shrinking GDP. Only an exceptionally strong performance in the early months of 2004 kept the year as a whole from showing a decline. The output figures brought a cautiously optimistic response from economic officials. \"Overall I see a low risk of the economy falling into serious recession,\" said Bank of Japan chief Toshihiko Fukui, despite warning that other indicators - such as the growth numbers - had been worrying.\\n\\nWithin the overall industrial output figure, there were signs of a pullback from the export slowdown. Among the best-performing sectors were key overseas sales areas such as cars, chemicals and electronic goods. With US growth doing better than expected the picture for exports in early 2005 could also be one of sustained demand. Electronics were also one of the keys to the improved domestic market, with products such as flat-screen TVs in high demand during January.\\n\\nJapan\\'s last four year GDP:\\n\\nYear\\tGDP\\n2022\\t$4,256.41B\\n2021\\t$5,034.62B\\n2020\\t$5,055.59B\\n2019\\t$5,117.99B\\n\\nAs of early 2025, Japan\\'s economy exhibits signs of moderate recovery, with industrial production increasing by 2.3% month-over-month in February, slightly below initial estimates but indicating a rebound from previous contractions. Retail sales have shown consistent growth, rising by 3.9% year-on-year in January, marking the 36th consecutive month of expansion. The Nikkei 225 index has responded positively, reaching levels around 11,740.60 points, with projections suggesting it could climb to 45,400 by the end of 2025. The Japanese yen has experienced fluctuations, strengthening to 104.53 yen against the dollar, reflecting investor optimism. Despite these positive indicators, challenges persist, including concerns over export performance and demographic issues such as an aging population. The Bank of Japan remains cautiously optimistic, noting that while certain economic indicators are encouraging, vigilance is necessary to sustain growth. Overall, Japan\\'s economy appears to be on a path of gradual improvement, balancing recovery efforts with structural reforms to address long-term challenges.\\n\\nAs of mid-2025, Japan\\'s economy is experiencing a nuanced recovery characterized by moderate growth and persistent challenges. In the first quarter, real GDP contracted by 0.1%, influenced by a 1.1% month-over-month decline in industrial production in March, primarily due to the impact of U.S. tariffs on exports. Despite this, retail sales demonstrated resilience, increasing by 2.9% year-over-year in the first quarter, with notable growth in sectors like apparel and household electronics. \\nING Think\\nRTTNews\\n\\nThe Bank of Japan (BOJ) has maintained its short-term interest rate at 0.5%, citing uncertainties stemming from global trade tensions. The BOJ revised its growth projection for the fiscal year ending March 2026 from 1.1% to 0.5%, and for the following year from 1.0% to 0.7%. Inflation is now expected to reach the 2% target around the latter half of fiscal 2026. \\nReuters\\n+1\\nReuters\\n+1\\n\\nIn the financial markets, the Nikkei 225 index has shown strength, with projections suggesting it could reach 45,400 by the end of 2025, supported by corporate share buybacks and a gradual return of foreign investors. The Japanese yen has experienced fluctuations, recently trading at approximately 104.53 against the U.S. dollar, reflecting investor sentiment and monetary policy expectations.\\n三井住友DSアセットマネジメント\\n\\nOverall, while Japan\\'s economy faces headwinds from external trade pressures and domestic structural issues, indicators such as wage growth and consumer spending provide a foundation for cautious optimism. The BOJ\\'s flexible policy stance aims to navigate these challenges, balancing the goals of economic growth and price stability.'"
      ]
     },
     "execution_count": 32,
     "metadata": {},
     "output_type": "execute_result"
    }
   ],
   "source": [
    "docs[0].page_content"
   ]
  },
  {
   "cell_type": "code",
   "execution_count": 33,
   "metadata": {},
   "outputs": [
    {
     "data": {
      "text/plain": [
       "12"
      ]
     },
     "execution_count": 33,
     "metadata": {},
     "output_type": "execute_result"
    }
   ],
   "source": [
    "len(\"sunny savita\")"
   ]
  },
  {
   "cell_type": "code",
   "execution_count": 34,
   "metadata": {},
   "outputs": [
    {
     "data": {
      "text/plain": [
       "4569"
      ]
     },
     "execution_count": 34,
     "metadata": {},
     "output_type": "execute_result"
    }
   ],
   "source": [
    "len(docs[0].page_content)"
   ]
  },
  {
   "cell_type": "code",
   "execution_count": 44,
   "metadata": {},
   "outputs": [],
   "source": [
    "# splitter=CharacterTextSplitter(separator=\"\\n\", chunk_size=3000,chunk_overlap=250)\n",
    "\n",
    "splitter = CharacterTextSplitter(separator=\"\\n\", chunk_size=300,chunk_overlap=25)"
   ]
  },
  {
   "cell_type": "code",
   "execution_count": 45,
   "metadata": {},
   "outputs": [
    {
     "name": "stderr",
     "output_type": "stream",
     "text": [
      "Created a chunk of size 1073, which is longer than the specified 300\n",
      "Created a chunk of size 470, which is longer than the specified 300\n",
      "Created a chunk of size 1111, which is longer than the specified 300\n",
      "Created a chunk of size 494, which is longer than the specified 300\n",
      "Created a chunk of size 364, which is longer than the specified 300\n",
      "Created a chunk of size 394, which is longer than the specified 300\n"
     ]
    }
   ],
   "source": [
    "split_docs=splitter.split_documents(docs)"
   ]
  },
  {
   "cell_type": "code",
   "execution_count": 46,
   "metadata": {},
   "outputs": [
    {
     "data": {
      "text/plain": [
       "[Document(metadata={'source': 'D:\\\\Soumadeep_Macbook\\\\Cybersecurity and Artificial Intelligence Macbook\\\\Advance_NLP_Generative_AI\\\\MODULES\\\\CODE\\\\Vector_DB\\\\state_of_the_union.txt'}, page_content=\"Industrial revival hope for Japan\\nJapanese industry is growing faster than expected, boosting hopes that the country's retreat back into recession is over.\"),\n",
       " Document(metadata={'source': 'D:\\\\Soumadeep_Macbook\\\\Cybersecurity and Artificial Intelligence Macbook\\\\Advance_NLP_Generative_AI\\\\MODULES\\\\CODE\\\\Vector_DB\\\\state_of_the_union.txt'}, page_content='Industrial output rose 2.1% - adjusted for the time of year - in January from a month earlier. At the same time, retail sales picked up faster than at any time since 1997. The news sent Tokyo shares to an eight-month high, as investors hoped for a recovery from the three quarters of contraction seen from April 2004 on. The Nikkei 225 index ended the day up 0.7% at 11,740.60 points, with the yen strengthening 0.7% against the dollar to 104.53 yen. Weaker exports, normally the engine for Japan\\'s economy in the face of weak domestic demand, had helped trigger a 0.1% contraction in the final three months of last year after two previous quarters of shrinking GDP. Only an exceptionally strong performance in the early months of 2004 kept the year as a whole from showing a decline. The output figures brought a cautiously optimistic response from economic officials. \"Overall I see a low risk of the economy falling into serious recession,\" said Bank of Japan chief Toshihiko Fukui, despite warning that other indicators - such as the growth numbers - had been worrying.'),\n",
       " Document(metadata={'source': 'D:\\\\Soumadeep_Macbook\\\\Cybersecurity and Artificial Intelligence Macbook\\\\Advance_NLP_Generative_AI\\\\MODULES\\\\CODE\\\\Vector_DB\\\\state_of_the_union.txt'}, page_content='Within the overall industrial output figure, there were signs of a pullback from the export slowdown. Among the best-performing sectors were key overseas sales areas such as cars, chemicals and electronic goods. With US growth doing better than expected the picture for exports in early 2005 could also be one of sustained demand. Electronics were also one of the keys to the improved domestic market, with products such as flat-screen TVs in high demand during January.'),\n",
       " Document(metadata={'source': 'D:\\\\Soumadeep_Macbook\\\\Cybersecurity and Artificial Intelligence Macbook\\\\Advance_NLP_Generative_AI\\\\MODULES\\\\CODE\\\\Vector_DB\\\\state_of_the_union.txt'}, page_content=\"Japan's last four year GDP:\\nYear\\tGDP\\n2022\\t$4,256.41B\\n2021\\t$5,034.62B\\n2020\\t$5,055.59B\\n2019\\t$5,117.99B\"),\n",
       " Document(metadata={'source': 'D:\\\\Soumadeep_Macbook\\\\Cybersecurity and Artificial Intelligence Macbook\\\\Advance_NLP_Generative_AI\\\\MODULES\\\\CODE\\\\Vector_DB\\\\state_of_the_union.txt'}, page_content=\"As of early 2025, Japan's economy exhibits signs of moderate recovery, with industrial production increasing by 2.3% month-over-month in February, slightly below initial estimates but indicating a rebound from previous contractions. Retail sales have shown consistent growth, rising by 3.9% year-on-year in January, marking the 36th consecutive month of expansion. The Nikkei 225 index has responded positively, reaching levels around 11,740.60 points, with projections suggesting it could climb to 45,400 by the end of 2025. The Japanese yen has experienced fluctuations, strengthening to 104.53 yen against the dollar, reflecting investor optimism. Despite these positive indicators, challenges persist, including concerns over export performance and demographic issues such as an aging population. The Bank of Japan remains cautiously optimistic, noting that while certain economic indicators are encouraging, vigilance is necessary to sustain growth. Overall, Japan's economy appears to be on a path of gradual improvement, balancing recovery efforts with structural reforms to address long-term challenges.\"),\n",
       " Document(metadata={'source': 'D:\\\\Soumadeep_Macbook\\\\Cybersecurity and Artificial Intelligence Macbook\\\\Advance_NLP_Generative_AI\\\\MODULES\\\\CODE\\\\Vector_DB\\\\state_of_the_union.txt'}, page_content=\"As of mid-2025, Japan's economy is experiencing a nuanced recovery characterized by moderate growth and persistent challenges. In the first quarter, real GDP contracted by 0.1%, influenced by a 1.1% month-over-month decline in industrial production in March, primarily due to the impact of U.S. tariffs on exports. Despite this, retail sales demonstrated resilience, increasing by 2.9% year-over-year in the first quarter, with notable growth in sectors like apparel and household electronics.\"),\n",
       " Document(metadata={'source': 'D:\\\\Soumadeep_Macbook\\\\Cybersecurity and Artificial Intelligence Macbook\\\\Advance_NLP_Generative_AI\\\\MODULES\\\\CODE\\\\Vector_DB\\\\state_of_the_union.txt'}, page_content='ING Think\\nRTTNews'),\n",
       " Document(metadata={'source': 'D:\\\\Soumadeep_Macbook\\\\Cybersecurity and Artificial Intelligence Macbook\\\\Advance_NLP_Generative_AI\\\\MODULES\\\\CODE\\\\Vector_DB\\\\state_of_the_union.txt'}, page_content='The Bank of Japan (BOJ) has maintained its short-term interest rate at 0.5%, citing uncertainties stemming from global trade tensions. The BOJ revised its growth projection for the fiscal year ending March 2026 from 1.1% to 0.5%, and for the following year from 1.0% to 0.7%. Inflation is now expected to reach the 2% target around the latter half of fiscal 2026.'),\n",
       " Document(metadata={'source': 'D:\\\\Soumadeep_Macbook\\\\Cybersecurity and Artificial Intelligence Macbook\\\\Advance_NLP_Generative_AI\\\\MODULES\\\\CODE\\\\Vector_DB\\\\state_of_the_union.txt'}, page_content='Reuters\\n+1\\nReuters\\n+1'),\n",
       " Document(metadata={'source': 'D:\\\\Soumadeep_Macbook\\\\Cybersecurity and Artificial Intelligence Macbook\\\\Advance_NLP_Generative_AI\\\\MODULES\\\\CODE\\\\Vector_DB\\\\state_of_the_union.txt'}, page_content='In the financial markets, the Nikkei 225 index has shown strength, with projections suggesting it could reach 45,400 by the end of 2025, supported by corporate share buybacks and a gradual return of foreign investors. The Japanese yen has experienced fluctuations, recently trading at approximately 104.53 against the U.S. dollar, reflecting investor sentiment and monetary policy expectations.'),\n",
       " Document(metadata={'source': 'D:\\\\Soumadeep_Macbook\\\\Cybersecurity and Artificial Intelligence Macbook\\\\Advance_NLP_Generative_AI\\\\MODULES\\\\CODE\\\\Vector_DB\\\\state_of_the_union.txt'}, page_content='三井住友DSアセットマネジメント'),\n",
       " Document(metadata={'source': 'D:\\\\Soumadeep_Macbook\\\\Cybersecurity and Artificial Intelligence Macbook\\\\Advance_NLP_Generative_AI\\\\MODULES\\\\CODE\\\\Vector_DB\\\\state_of_the_union.txt'}, page_content=\"Overall, while Japan's economy faces headwinds from external trade pressures and domestic structural issues, indicators such as wage growth and consumer spending provide a foundation for cautious optimism. The BOJ's flexible policy stance aims to navigate these challenges, balancing the goals of economic growth and price stability.\")]"
      ]
     },
     "execution_count": 46,
     "metadata": {},
     "output_type": "execute_result"
    }
   ],
   "source": [
    "split_docs"
   ]
  },
  {
   "cell_type": "code",
   "execution_count": 47,
   "metadata": {},
   "outputs": [
    {
     "data": {
      "text/plain": [
       "12"
      ]
     },
     "execution_count": 47,
     "metadata": {},
     "output_type": "execute_result"
    }
   ],
   "source": [
    "len(split_docs)"
   ]
  },
  {
   "cell_type": "code",
   "execution_count": 48,
   "metadata": {},
   "outputs": [],
   "source": [
    "from langchain_text_splitters import RecursiveCharacterTextSplitter\n",
    "text_splitter = RecursiveCharacterTextSplitter(\n",
    "    chunk_size=300,\n",
    "    chunk_overlap=25,\n",
    "    length_function=len,\n",
    "    is_separator_regex=False,\n",
    ")\n",
    "\n",
    "# Load example document\n",
    "with open(\"D:\\\\Soumadeep_Macbook\\\\Cybersecurity and Artificial Intelligence Macbook\\\\Advance_NLP_Generative_AI\\\\MODULES\\\\CODE\\\\Vector_DB\\\\state_of_the_union.txt\") as f:\n",
    "    state_of_the_union = f.read()"
   ]
  },
  {
   "cell_type": "code",
   "execution_count": null,
   "metadata": {},
   "outputs": [],
   "source": [
    "'''\n",
    "text_splitter = RecursiveCharacterTextSplitter(\n",
    "    chunk_size=3000,\n",
    "    chunk_overlap=250,\n",
    "    length_function=len,\n",
    "    is_separator_regex=False,\n",
    ")\n",
    "'''"
   ]
  },
  {
   "cell_type": "code",
   "execution_count": 49,
   "metadata": {},
   "outputs": [],
   "source": [
    "texts = text_splitter.create_documents([state_of_the_union])"
   ]
  },
  {
   "cell_type": "code",
   "execution_count": 50,
   "metadata": {},
   "outputs": [
    {
     "data": {
      "text/plain": [
       "23"
      ]
     },
     "execution_count": 50,
     "metadata": {},
     "output_type": "execute_result"
    }
   ],
   "source": [
    "len(texts)"
   ]
  },
  {
   "cell_type": "code",
   "execution_count": 51,
   "metadata": {},
   "outputs": [
    {
     "name": "stdout",
     "output_type": "stream",
     "text": [
      "page_content='Industrial revival hope for Japan\n",
      "\n",
      "Japanese industry is growing faster than expected, boosting hopes that the country's retreat back into recession is over.'\n",
      "page_content='Industrial output rose 2.1% - adjusted for the time of year - in January from a month earlier. At the same time, retail sales picked up faster than at any time since 1997. The news sent Tokyo shares to an eight-month high, as investors hoped for a recovery from the three quarters of contraction'\n"
     ]
    }
   ],
   "source": [
    "print(texts[0])\n",
    "print(texts[1])"
   ]
  },
  {
   "cell_type": "code",
   "execution_count": null,
   "metadata": {},
   "outputs": [],
   "source": []
  }
 ],
 "metadata": {
  "kernelspec": {
   "display_name": "rag",
   "language": "python",
   "name": "python3"
  },
  "language_info": {
   "codemirror_mode": {
    "name": "ipython",
    "version": 3
   },
   "file_extension": ".py",
   "mimetype": "text/x-python",
   "name": "python",
   "nbconvert_exporter": "python",
   "pygments_lexer": "ipython3",
   "version": "3.13.3"
  }
 },
 "nbformat": 4,
 "nbformat_minor": 2
}
